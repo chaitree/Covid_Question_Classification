{
 "cells": [
  {
   "cell_type": "code",
   "execution_count": 1,
   "metadata": {},
   "outputs": [],
   "source": [
    "import pandas as pd\n",
    "from sklearn.svm import SVC\n",
    "from sklearn.metrics import accuracy_score\n",
    "from sklearn.neural_network import MLPClassifier\n",
    "from gensim.models import Word2Vec\n",
    "# from sklearn.feature_extraction.text import CountVectorizer\n",
    "import numpy as np\n",
    "import os.path\n",
    "import yaml"
   ]
  },
  {
   "cell_type": "code",
   "execution_count": 2,
   "metadata": {},
   "outputs": [],
   "source": [
    "def read_yaml(yaml_file):\n",
    "    '''read yaml file \n",
    "    inpput - config file name and path'''\n",
    "    data_dict = None\n",
    "    with open(yaml_file) as f:\n",
    "        data_dict = yaml.safe_load(f)\n",
    "    return data_dict"
   ]
  },
  {
   "cell_type": "code",
   "execution_count": 3,
   "metadata": {},
   "outputs": [],
   "source": [
    "# read the data config file\n",
    "yaml_file_name = 'data_config.yaml'\n",
    "data_dict = read_yaml(yaml_file_name)"
   ]
  },
  {
   "cell_type": "code",
   "execution_count": 4,
   "metadata": {},
   "outputs": [],
   "source": [
    "# save the config params for data\n",
    "test_percent = int(data_dict['test_percent'])\n",
    "author_data_choice = data_dict['author_data_choice']\n",
    "data_augmentation = data_dict['data_augmentation']"
   ]
  },
  {
   "cell_type": "code",
   "execution_count": 5,
   "metadata": {},
   "outputs": [
    {
     "name": "stdout",
     "output_type": "stream",
     "text": [
      " ====== data config ======= \n",
      "test percent :  30 <class 'int'>\n",
      "author_data_choice :  True <class 'bool'>\n",
      "data_augmentation :  True <class 'bool'>\n"
     ]
    }
   ],
   "source": [
    "# print the config received for data\n",
    "print(\" ====== data config ======= \")\n",
    "print(\"test percent : \", test_percent , type(test_percent))\n",
    "print(\"author_data_choice : \", author_data_choice, type(author_data_choice))\n",
    "print(\"data_augmentation : \", data_augmentation, type(data_augmentation))"
   ]
  },
  {
   "cell_type": "code",
   "execution_count": 6,
   "metadata": {},
   "outputs": [],
   "source": [
    "# read the SVM config file\n",
    "yaml_file_name = 'SVM_classifier_config.yaml'\n",
    "data_dict = read_yaml(yaml_file_name)\n"
   ]
  },
  {
   "cell_type": "code",
   "execution_count": 7,
   "metadata": {},
   "outputs": [],
   "source": [
    "# save the config params for SVM\n",
    "kernel_name_SVM = data_dict['kernel_name_SVM']\n",
    "balanced_SVM = data_dict['balanced_SVM']\n"
   ]
  },
  {
   "cell_type": "code",
   "execution_count": 8,
   "metadata": {},
   "outputs": [
    {
     "name": "stdout",
     "output_type": "stream",
     "text": [
      "======== SVM Classifier config ==========\n",
      "kernel_name_SVM :  sigmoid <class 'str'>\n",
      "balanced_SVM :  False <class 'bool'>\n"
     ]
    }
   ],
   "source": [
    "# print the config received for SVM\n",
    "print(\"======== SVM Classifier config ==========\")\n",
    "print(\"kernel_name_SVM : \", kernel_name_SVM, type(kernel_name_SVM))\n",
    "print(\"balanced_SVM : \", balanced_SVM, type(balanced_SVM))"
   ]
  },
  {
   "cell_type": "code",
   "execution_count": 9,
   "metadata": {},
   "outputs": [],
   "source": [
    "# read the MLP config file\n",
    "yaml_file_name = 'MLP_classifier_config.yaml'\n",
    "data_dict = read_yaml(yaml_file_name)"
   ]
  },
  {
   "cell_type": "code",
   "execution_count": 10,
   "metadata": {},
   "outputs": [],
   "source": [
    "# save the config params for MLP, as number of neruons in layer mentioned as (,,) we need to convert them to list to give it to further MLP function\n",
    "hidden_layer_sizes_MLP = []\n",
    "layer_sizes = data_dict['hidden_layer_sizes_MLP'].split(\",\") # split on \",\"\n",
    "for i in range(len(layer_sizes)):\n",
    "    size = layer_sizes[i]\n",
    "    if i ==0:\n",
    "        hidden_layer_sizes_MLP.append(int(size[1:])) # for first remove ( in (no_neuron and append to list\n",
    "    elif i == len(layer_sizes)-1:\n",
    "        hidden_layer_sizes_MLP.append(int(size[:-1])) # for last remove ) in no_neuron) and append to list\n",
    "    else:\n",
    "         hidden_layer_sizes_MLP.append(int(size))  #  append no_neuron to list\n",
    "hidden_layer_sizes_MLP = tuple(hidden_layer_sizes_MLP) "
   ]
  },
  {
   "cell_type": "code",
   "execution_count": 11,
   "metadata": {},
   "outputs": [],
   "source": [
    "# save the config hyperparams for MLP\n",
    "learning_rate_init_MLP=data_dict['learning_rate_init_MLP']\n",
    "max_iter_MLP=data_dict['max_iter_MLP']\n"
   ]
  },
  {
   "cell_type": "code",
   "execution_count": 12,
   "metadata": {},
   "outputs": [
    {
     "name": "stdout",
     "output_type": "stream",
     "text": [
      "========= MLP classifier config =========== \n",
      "hidden_layer_sizes_MLP :  (64, 32) <class 'tuple'>\n",
      "learning_rate_init_MLP :  0.01 <class 'float'>\n",
      "max_iter_MLP :  100 <class 'int'>\n"
     ]
    }
   ],
   "source": [
    "# print the config received for MLP\n",
    "print(\"========= MLP classifier config =========== \")\n",
    "print(\"hidden_layer_sizes_MLP : \" , hidden_layer_sizes_MLP, type(hidden_layer_sizes_MLP))\n",
    "print(\"learning_rate_init_MLP : \", learning_rate_init_MLP, type(learning_rate_init_MLP))\n",
    "print(\"max_iter_MLP : \", max_iter_MLP, type(max_iter_MLP))"
   ]
  },
  {
   "cell_type": "code",
   "execution_count": 13,
   "metadata": {},
   "outputs": [],
   "source": [
    "# read yaml config file for test \n",
    "yaml_file_name = 'test_config.yaml'\n",
    "data_dict = read_yaml(yaml_file_name)"
   ]
  },
  {
   "cell_type": "code",
   "execution_count": 14,
   "metadata": {},
   "outputs": [],
   "source": [
    "# save the config params for test\n",
    "row_from_author_data = data_dict['row_from_author_data']\n",
    "test_question = data_dict['test_question']\n"
   ]
  },
  {
   "cell_type": "code",
   "execution_count": 15,
   "metadata": {},
   "outputs": [
    {
     "name": "stdout",
     "output_type": "stream",
     "text": [
      "===== test config ========\n",
      "row_from_author_data :  [5, 15, 150] <class 'list'>\n",
      "test_question :  how bad is covid pandemic <class 'str'>\n"
     ]
    }
   ],
   "source": [
    "# print the params for test \n",
    "print(\"===== test config ========\" )\n",
    "print(\"row_from_author_data : \", row_from_author_data , type(row_from_author_data))\n",
    "print(\"test_question : \", test_question, type(test_question))"
   ]
  },
  {
   "cell_type": "code",
   "execution_count": 16,
   "metadata": {},
   "outputs": [],
   "source": [
    "# read yaml config file for word2vec \n",
    "yaml_file_name = 'word2vec_config.yaml'\n",
    "data_dict = read_yaml(yaml_file_name)"
   ]
  },
  {
   "cell_type": "code",
   "execution_count": 17,
   "metadata": {},
   "outputs": [],
   "source": [
    "# save the config params for word2vec\n",
    "vector_size  = data_dict['vector_size']\n",
    "window = data_dict['window']\n",
    "min_count = data_dict['min_count']\n",
    "sg = data_dict['sg']\n",
    "train_new_word2vec = data_dict['train_new_word2vec']\n",
    "tsne_word = data_dict['tsne_word']"
   ]
  },
  {
   "cell_type": "code",
   "execution_count": 18,
   "metadata": {},
   "outputs": [
    {
     "name": "stdout",
     "output_type": "stream",
     "text": [
      " ====== word2vec model config -=====\n",
      "vector_size :  700 <class 'int'>\n",
      "window :  3 <class 'int'>\n",
      "min_count :  3 <class 'int'>\n",
      "sg :  0 <class 'int'>\n",
      "train_new_word2vec :  False <class 'bool'>\n",
      "tsne_word :  treatment <class 'str'>\n"
     ]
    }
   ],
   "source": [
    "# print the params for word2vec\n",
    "print(\" ====== word2vec model config -=====\")\n",
    "print(\"vector_size : \", vector_size, type(vector_size))\n",
    "print(\"window : \", window, type(window))\n",
    "print(\"min_count : \",min_count , type(min_count))\n",
    "print(\"sg : \", sg, type(sg))\n",
    "print(\"train_new_word2vec : \", train_new_word2vec, type(train_new_word2vec))\n",
    "print(\"tsne_word : \", tsne_word, type(tsne_word))"
   ]
  },
  {
   "cell_type": "code",
   "execution_count": 19,
   "metadata": {},
   "outputs": [],
   "source": [
    "def SVM_classifier(kernel_name, class_balanced = False):\n",
    "    '''invokes appropriate SVM classfier\n",
    "    input - kernel to use, whether to balance class'''\n",
    "    if class_balanced == True:\n",
    "        # SVC with particular kernal and class balance = True\n",
    "        SVC1 = SVC(kernel=kernel_name, class_weight='balanced')\n",
    "        return SVC1\n",
    "    else:\n",
    "        # SVC with particular kernal and class balance = False(default)\n",
    "        SVC1 = SVC(kernel=kernel_name)\n",
    "        return SVC1"
   ]
  },
  {
   "cell_type": "code",
   "execution_count": 20,
   "metadata": {},
   "outputs": [],
   "source": [
    "def get_accuracy_score(X,y, classifier='SVC'):\n",
    "    '''get accuracy for mentioned classifier \n",
    "    input - input, correct output, classifier (default - SVC) - SVC or MLP'''\n",
    "    if (classifier=='SVC'):\n",
    "        # predict using SVC and input\n",
    "        predict = svcclassifier.predict(X)\n",
    "        # return accuracy score\n",
    "        return accuracy_score(y, predict)\n",
    "    if (classifier=='MLP'):\n",
    "        # predict using MLP and input\n",
    "        predict = mlpclassifier.predict(X)\n",
    "        # return accuracy score\n",
    "        return accuracy_score(y, predict)\n",
    "        "
   ]
  },
  {
   "cell_type": "code",
   "execution_count": 21,
   "metadata": {},
   "outputs": [],
   "source": [
    "def test_on_data(sample, classifier='SVC'):\n",
    "    '''return prediction for test question using classifier \n",
    "    input - test sample question, classifier'''\n",
    "    # create the word2vec representation of sentence\n",
    "    list1 = sample.split(\" \") # split on space to create token\n",
    "    vec = []\n",
    "    for token in list1:\n",
    "        # search for token and it's representation in word2vec saved model\n",
    "        if token in sg_w2v_model.wv.index_to_key:\n",
    "            vec.append(sg_w2v_model.wv[token])\n",
    "        else :\n",
    "            # if token is not found append zeros\n",
    "            vec.append(np.zeros(vector_size))\n",
    "#         print(len(vec[5]))\n",
    "#         break\n",
    "    # take mean of all words representation\n",
    "    test_ex = (np.mean(vec, axis=0)).tolist()\n",
    "    if (classifier=='SVC'):\n",
    "        # predict using SVC classifier \n",
    "        return svcclassifier.predict([test_ex])[0]\n",
    "    if (classifier=='MLP'):\n",
    "        # predict using MLP classifier\n",
    "        return svcclassifier.predict([test_ex])[0]"
   ]
  },
  {
   "cell_type": "code",
   "execution_count": 22,
   "metadata": {},
   "outputs": [],
   "source": [
    "def get_trained_data(augmented):\n",
    "    '''get data for training\n",
    "    input - augmented param as boolean'''\n",
    "    if (augmented==True):\n",
    "         # read augmented trained data if augmented = True \n",
    "        df_train = pd.read_csv(\"data_generated/train_data_augmented.csv\")\n",
    "        print(\"train data shape : \", df_train.shape)\n",
    "        return df_train\n",
    "    else:\n",
    "         # read original non-augmented trained data if augmented = False \n",
    "        df_train = pd.read_csv(\"data_generated/train_data.csv\")\n",
    "        print(\"train data shape : \", df_train.shape)\n",
    "        return df_train"
   ]
  },
  {
   "cell_type": "code",
   "execution_count": 23,
   "metadata": {},
   "outputs": [],
   "source": [
    "def get_test_data(author=True):\n",
    "    '''get test data, source generated to author generated\n",
    "    input - author generated boolean'''\n",
    "    if (author==True):\n",
    "        # if author = True get both test data and author generated test data\n",
    "        df_test = pd.read_csv(\"./data_generated/test_data.csv\")\n",
    "        df_test_author = pd.read_csv(\"./data_generated/test_data_author_generated.csv\")\n",
    "        return df_test, df_test_author\n",
    "    else:\n",
    "        # if author = False get only test data\n",
    "        df_test = pd.read_csv(\"./data_generated/test_data.csv\")\n",
    "        return df_test, None"
   ]
  },
  {
   "cell_type": "code",
   "execution_count": 24,
   "metadata": {},
   "outputs": [],
   "source": [
    "def print_results_on_data(row_from_author_data, classifier='SVC'):\n",
    "    '''print the predictions for data \n",
    "    input - row numbers from author generated data, classifier to use'''\n",
    "    for i in row_from_author_data:\n",
    "        # if row more than number of rows in author generated data set it max row number\n",
    "        if (i > 248):\n",
    "            i = 248\n",
    "        if author_data_choice == True:\n",
    "            # if author choice true , get data for that row number and predict using given classifier, default, SVC\n",
    "            sample = df_test_author['Question'].iloc[i]\n",
    "            print(\"Question : \", df_test_author['Question'].iloc[i])\n",
    "            print(\"predicted : \", test_on_data(sample , classifier))\n",
    "            print(\"correct : \" , df_test_author['Category'].iloc[i])"
   ]
  },
  {
   "cell_type": "markdown",
   "metadata": {},
   "source": [
    "## word2vec model"
   ]
  },
  {
   "cell_type": "code",
   "execution_count": 25,
   "metadata": {},
   "outputs": [
    {
     "name": "stdout",
     "output_type": "stream",
     "text": [
      "train data shape :  (2887, 3)\n",
      "train data shape :  (2887, 3)\n"
     ]
    }
   ],
   "source": [
    "# get training data \n",
    "df_train = get_trained_data(augmented=data_augmentation)\n",
    "print(\"train data shape : \", df_train.shape)"
   ]
  },
  {
   "cell_type": "code",
   "execution_count": 26,
   "metadata": {},
   "outputs": [
    {
     "name": "stdout",
     "output_type": "stream",
     "text": [
      "test data shape :  (691, 2)\n",
      "author test data shape :  (249, 2)\n"
     ]
    }
   ],
   "source": [
    "# get test data\n",
    "df_test, df_test_author = get_test_data(author_data_choice)\n",
    "print(\"test data shape : \", df_test.shape)\n",
    "if author_data_choice==True:\n",
    "    print(\"author test data shape : \", df_test_author.shape)"
   ]
  },
  {
   "cell_type": "code",
   "execution_count": 27,
   "metadata": {
    "scrolled": true
   },
   "outputs": [],
   "source": [
    "# copy the train data and combine it with test and author test data if specified\n",
    "df_all = df_train.copy()\n",
    "df_all = df_all.append(df_test)\n",
    "if author_data_choice == True:\n",
    "    df_all = df_all.append(df_test_author)\n",
    "# df_all"
   ]
  },
  {
   "cell_type": "code",
   "execution_count": 28,
   "metadata": {},
   "outputs": [],
   "source": [
    "# generate tokens from sentences for combined data\n",
    "df_all['Question'] = df_all['Question'].astype(str)\n",
    "df_all['stemmed_tokens'] = df_all['Question'].str.split( \" \")\n",
    "# df_all"
   ]
  },
  {
   "cell_type": "code",
   "execution_count": 29,
   "metadata": {},
   "outputs": [],
   "source": [
    "# generate tokens from sentences for train data\n",
    "\n",
    "df_train['stemmed_tokens'] = df_train['Question'].str.split( \" \")\n",
    "# df_train"
   ]
  },
  {
   "cell_type": "code",
   "execution_count": 30,
   "metadata": {},
   "outputs": [],
   "source": [
    "# generate tokens from sentences for test data\n",
    "\n",
    "df_test['Question'] = df_test['Question'].astype(str)\n",
    "df_test['stemmed_tokens'] = df_test['Question'].str.split(\" \" )\n",
    "# df_test"
   ]
  },
  {
   "cell_type": "code",
   "execution_count": 31,
   "metadata": {},
   "outputs": [],
   "source": [
    "# generate tokens from sentences for author test data\n",
    "\n",
    "if author_data_choice==True:\n",
    "    df_test_author['Question'] = df_test_author['Question'].astype(str)\n",
    "    df_test_author['stemmed_tokens'] = df_test_author['Question'].str.split(\" \" )\n",
    "# df_test_author"
   ]
  },
  {
   "cell_type": "code",
   "execution_count": 32,
   "metadata": {},
   "outputs": [
    {
     "name": "stdout",
     "output_type": "stream",
     "text": [
      "data shape for word2vec input :  (3827, 4)\n"
     ]
    }
   ],
   "source": [
    "print(\"data shape for word2vec input : \" , df_all.shape)\n",
    "# list(df_all['stemmed_tokens'].values)"
   ]
  },
  {
   "cell_type": "code",
   "execution_count": 33,
   "metadata": {},
   "outputs": [],
   "source": [
    "# word2vec model filename to save model or saved model that needs to be retrieved\n",
    "word2vec_model_file = './data_generated/word2vec_' + str(vector_size) + '.model'\n",
    "# if we want to train new word2vec model\n",
    "if (train_new_word2vec==True):\n",
    "    print(\"training word2vec model and saving to \", word2vec_model_file)\n",
    "    stemmed_tokens = list(df_all['stemmed_tokens'].values)\n",
    "    # Train the Word2Vec Model\n",
    "    w2v_model = Word2Vec( stemmed_tokens, min_count = min_count, vector_size  = vector_size , window = window, sg=sg) #declare\n",
    "    w2v_model.build_vocab(stemmed_tokens, progress_per=10000) # build vocab for it\n",
    "    w2v_model.train(stemmed_tokens, total_examples=w2v_model.corpus_count, epochs=500, report_delay=1) # train using hyperparams\n",
    "    # w2v_model = Word2Vec(stemmed_tokens,min_count = min_count, vector_size  = vector_size, window=window )\n",
    "    w2v_model.save(word2vec_model_file) #save the generated file\n",
    "    \n",
    "elif  (os.path.exists(word2vec_model_file)==False) and (train_new_word2vec==False):\n",
    "    # if we don't want to train athe model but we don't have saved file for that particular word2vec dimension, gives error\n",
    "    print(\"error : make word2vec model trainable\")"
   ]
  },
  {
   "cell_type": "code",
   "execution_count": 34,
   "metadata": {},
   "outputs": [],
   "source": [
    "# w2v_model.wv.index_to_key\n",
    "# 'covVid'.lower() in w2v_model.wv.index_to_key"
   ]
  },
  {
   "cell_type": "code",
   "execution_count": 35,
   "metadata": {},
   "outputs": [
    {
     "name": "stdout",
     "output_type": "stream",
     "text": [
      "retrieved model from  ./data_generated/word2vec_700.model\n"
     ]
    }
   ],
   "source": [
    "sg_w2v_model = Word2Vec.load(word2vec_model_file) # load the word2vec file\n",
    "print(\"retrieved model from \", word2vec_model_file)\n",
    "#create representations for training data\n",
    "word2vec_filename = './data_generated/train_word2vec.csv'\n",
    "with open(word2vec_filename, 'w+') as word2vec_file:\n",
    "    # iter thorugh each question\n",
    "    for index, row in df_train.iterrows():\n",
    "        vec = []\n",
    "        for token in row['stemmed_tokens']: # for each token find if representation is there in model using key\n",
    "            if token in sg_w2v_model.wv.index_to_key:\n",
    "                vec.append(sg_w2v_model.wv[token]) # append if found\n",
    "            else :\n",
    "                vec.append(np.zeros(vector_size)) # append zeros of proper dimension if not found\n",
    "#         print(len(vec[5]))\n",
    "#         break\n",
    "        model_vector = (np.mean(vec, axis=0)).tolist() # take mean of represntation of all words for sentence representation \n",
    "        if index == 0:\n",
    "            # write the header to file if index is zero\n",
    "            header = \",\".join(str(ele) for ele in range(vector_size))\n",
    "            word2vec_file.write(header)\n",
    "            word2vec_file.write(\"\\n\")\n",
    "        # Check if the line exists else it is vector of zeros\n",
    "        if type(model_vector) is list:  \n",
    "            line1 = \",\".join( [str(vector_element) for vector_element in model_vector] )\n",
    "        else:\n",
    "            line1 = \",\".join([str(0) for i in range(vector_size)])\n",
    "        # write in word to vec file\n",
    "        word2vec_file.write(line1)\n",
    "        word2vec_file.write('\\n')"
   ]
  },
  {
   "cell_type": "code",
   "execution_count": 36,
   "metadata": {
    "scrolled": true
   },
   "outputs": [
    {
     "name": "stdout",
     "output_type": "stream",
     "text": [
      "feature shape train data :  (2887, 700)\n"
     ]
    }
   ],
   "source": [
    "# read back the saved csv file for word2vec\n",
    "word2vec_df = pd.read_csv(word2vec_filename)\n",
    "print(\"feature shape train data : \", word2vec_df.shape)"
   ]
  },
  {
   "cell_type": "code",
   "execution_count": 37,
   "metadata": {},
   "outputs": [],
   "source": [
    "test_features_word2vec = []\n",
    "# create the word2vec representation of test data\n",
    "# iterate through each row \n",
    "for index, row in df_test.iterrows():\n",
    "#     model_vector = np.mean([sg_w2v_model.wv[token] for token in row['stemmed_tokens']], axis=0)\n",
    "#     vec = [sg_w2v_model.wv[token] for token in row['stemmed_tokens'] if token in w2v_model.wv.index_to_key or [np.zeros(vector_size)]]\n",
    "#     print(vec)\n",
    "    vec = []\n",
    "    # for each row if token is found in model append representation else append zeros\n",
    "    for token in row['stemmed_tokens']:\n",
    "        if token in sg_w2v_model.wv.index_to_key:\n",
    "            vec.append(sg_w2v_model.wv[token])\n",
    "        else :\n",
    "            vec.append(np.zeros(vector_size))\n",
    "#         print(len(vec[5]))\n",
    "#         break\n",
    "    # take mean of representations of all words in sentence to get representation for sentence\n",
    "    model_vector = (np.mean(vec, axis=0)).tolist()\n",
    "#      Check if the line exists else it is vector of zeros\n",
    "    if type(model_vector) is list:\n",
    "        test_features_word2vec.append(model_vector)\n",
    "    else:\n",
    "        test_features_word2vec.append(np.array([0 for i in range(vector_size)]))"
   ]
  },
  {
   "cell_type": "code",
   "execution_count": 38,
   "metadata": {},
   "outputs": [],
   "source": [
    "test_author_features_word2vec = []\n",
    "# create the word2vec representation of test author data\n",
    "# iterate through each row \n",
    "if (author_data_choice==True):\n",
    "    for index, row in df_test_author.iterrows():\n",
    "#         model_vector = np.mean([sg_w2v_model.wv[token] for token in row['stemmed_tokens']], axis=0)\n",
    "        vec = []\n",
    "    # for each row if token is found in model append representation else append zeros\n",
    "        for token in row['stemmed_tokens']:\n",
    "            if token in sg_w2v_model.wv.index_to_key:\n",
    "                vec.append(sg_w2v_model.wv[token])\n",
    "            else :\n",
    "                vec.append(np.zeros(vector_size))\n",
    "#         print(len(vec[5]))\n",
    "#         break\n",
    "# take mean of representations of all words in sentence to get representation for sentence\n",
    "        model_vector = (np.mean(vec, axis=0)).tolist()\n",
    "    #      Check if the line exists else it is vector of zeros\n",
    "\n",
    "        if type(model_vector) is list:\n",
    "            test_author_features_word2vec.append(model_vector)\n",
    "        else:\n",
    "            test_author_features_word2vec.append(np.array([0 for i in range(vector_size)]))"
   ]
  },
  {
   "cell_type": "code",
   "execution_count": 39,
   "metadata": {},
   "outputs": [],
   "source": [
    "y_train = df_train['Category']\n",
    "# y_train\n",
    "# df_train"
   ]
  },
  {
   "cell_type": "code",
   "execution_count": 40,
   "metadata": {},
   "outputs": [],
   "source": [
    "y_test = df_test['Category']"
   ]
  },
  {
   "cell_type": "code",
   "execution_count": 41,
   "metadata": {},
   "outputs": [],
   "source": [
    "y_test_author = None\n",
    "if author_data_choice == True:\n",
    "    y_test_author = df_test_author['Category']\n",
    "#     y_test_author"
   ]
  },
  {
   "cell_type": "markdown",
   "metadata": {},
   "source": [
    "## SVM classfier"
   ]
  },
  {
   "cell_type": "code",
   "execution_count": 42,
   "metadata": {},
   "outputs": [],
   "source": [
    "# initialize classifier using kernel name and class balance\n",
    "svcclassifier = SVM_classifier(kernel_name_SVM, balanced_SVM )"
   ]
  },
  {
   "cell_type": "code",
   "execution_count": 43,
   "metadata": {},
   "outputs": [
    {
     "data": {
      "text/plain": [
       "SVC(kernel='sigmoid')"
      ]
     },
     "execution_count": 43,
     "metadata": {},
     "output_type": "execute_result"
    }
   ],
   "source": [
    "# fit the classifier\n",
    "svcclassifier.fit(word2vec_df.values, y_train)"
   ]
  },
  {
   "cell_type": "code",
   "execution_count": 44,
   "metadata": {},
   "outputs": [
    {
     "name": "stdout",
     "output_type": "stream",
     "text": [
      "train accuracy :  0.6757880152407343\n"
     ]
    }
   ],
   "source": [
    "# get accuracy on training data\n",
    "train_accuracy = get_accuracy_score(word2vec_df.values, y_train)\n",
    "print(\"train accuracy : \", train_accuracy)"
   ]
  },
  {
   "cell_type": "code",
   "execution_count": 45,
   "metadata": {},
   "outputs": [
    {
     "name": "stdout",
     "output_type": "stream",
     "text": [
      "test accuracy :  0.4153400868306802\n"
     ]
    }
   ],
   "source": [
    "# get accuracy on test data\n",
    "test_accuracy = get_accuracy_score(test_features_word2vec, y_test,'SVC')\n",
    "print(\"test accuracy : \", test_accuracy)"
   ]
  },
  {
   "cell_type": "code",
   "execution_count": 46,
   "metadata": {},
   "outputs": [
    {
     "name": "stdout",
     "output_type": "stream",
     "text": [
      "author test accuracy :  0.36947791164658633\n"
     ]
    }
   ],
   "source": [
    "# get accuracy on author test data\n",
    "if author_data_choice == True:\n",
    "    test_author_accuracy = get_accuracy_score(test_author_features_word2vec, y_test_author)\n",
    "    print(\"author test accuracy : \", test_author_accuracy)"
   ]
  },
  {
   "cell_type": "code",
   "execution_count": null,
   "metadata": {},
   "outputs": [],
   "source": []
  },
  {
   "cell_type": "code",
   "execution_count": 47,
   "metadata": {},
   "outputs": [
    {
     "name": "stdout",
     "output_type": "stream",
     "text": [
      "Question :  is covid the end of humanity\n",
      "predicted :  Societal Effects \n",
      "correct :  Societal Effects \n",
      "Question :  how is covid prevented\n",
      "predicted :  Origin \n",
      "correct :  Prevention \n",
      "Question :  how can i tell if i have the flu or covid\n",
      "predicted :  Prevention \n",
      "correct :  Comparison \n"
     ]
    }
   ],
   "source": [
    "# print results on data for mentined rows in test config file\n",
    "\n",
    "print_results_on_data(row_from_author_data)"
   ]
  },
  {
   "cell_type": "code",
   "execution_count": 48,
   "metadata": {},
   "outputs": [
    {
     "name": "stdout",
     "output_type": "stream",
     "text": [
      "Question :  how bad is covid pandemic\n",
      "predicted :  Nomenclature \n"
     ]
    }
   ],
   "source": [
    "# test on given test_question\n",
    "\n",
    "pred = test_on_data(test_question)\n",
    "print(\"Question : \", test_question)\n",
    "print(\"predicted : \", pred)"
   ]
  },
  {
   "cell_type": "markdown",
   "metadata": {},
   "source": [
    "## MLP classifier classfier"
   ]
  },
  {
   "cell_type": "code",
   "execution_count": 49,
   "metadata": {},
   "outputs": [],
   "source": [
    "# initialize MLP classifier using number of layers\n",
    "mlpclassifier = MLPClassifier(hidden_layer_sizes=hidden_layer_sizes_MLP, learning_rate_init=learning_rate_init_MLP, max_iter=max_iter_MLP)"
   ]
  },
  {
   "cell_type": "code",
   "execution_count": 50,
   "metadata": {},
   "outputs": [
    {
     "data": {
      "text/plain": [
       "MLPClassifier(hidden_layer_sizes=(64, 32), learning_rate_init=0.01,\n",
       "              max_iter=100)"
      ]
     },
     "execution_count": 50,
     "metadata": {},
     "output_type": "execute_result"
    }
   ],
   "source": [
    "# fit the classifier\n",
    "mlpclassifier.fit(word2vec_df, y_train)"
   ]
  },
  {
   "cell_type": "code",
   "execution_count": 51,
   "metadata": {},
   "outputs": [
    {
     "name": "stdout",
     "output_type": "stream",
     "text": [
      "train accuracy :  0.9695185313474195\n"
     ]
    }
   ],
   "source": [
    "# get accuracy on train data\n",
    "train_accuracy = get_accuracy_score(word2vec_df, y_train, 'MLP')\n",
    "print(\"train accuracy : \", train_accuracy)"
   ]
  },
  {
   "cell_type": "code",
   "execution_count": 52,
   "metadata": {},
   "outputs": [
    {
     "name": "stdout",
     "output_type": "stream",
     "text": [
      "test accuracy :  0.4211287988422576\n"
     ]
    }
   ],
   "source": [
    "# get accuracy on test data\n",
    "test_accuracy = get_accuracy_score(test_features_word2vec, y_test,'MLP')\n",
    "print(\"test accuracy : \", test_accuracy)"
   ]
  },
  {
   "cell_type": "code",
   "execution_count": 53,
   "metadata": {},
   "outputs": [
    {
     "name": "stdout",
     "output_type": "stream",
     "text": [
      "author test accuracy :  0.40562248995983935\n"
     ]
    }
   ],
   "source": [
    "# get accuracy on test author data\n",
    "if author_data_choice == True:    \n",
    "    test_author_accuracy = get_accuracy_score(test_author_features_word2vec, y_test_author,'MLP')\n",
    "    print(\"author test accuracy : \", test_author_accuracy)"
   ]
  },
  {
   "cell_type": "code",
   "execution_count": 54,
   "metadata": {},
   "outputs": [
    {
     "name": "stdout",
     "output_type": "stream",
     "text": [
      "Question :  is covid the end of humanity\n",
      "predicted :  Societal Effects \n",
      "correct :  Societal Effects \n",
      "Question :  how is covid prevented\n",
      "predicted :  Origin \n",
      "correct :  Prevention \n",
      "Question :  how can i tell if i have the flu or covid\n",
      "predicted :  Prevention \n",
      "correct :  Comparison \n"
     ]
    }
   ],
   "source": [
    "# print results on data for mentined rows in test config file\n",
    "\n",
    "print_results_on_data(row_from_author_data,'MLP')"
   ]
  },
  {
   "cell_type": "code",
   "execution_count": 55,
   "metadata": {},
   "outputs": [
    {
     "name": "stdout",
     "output_type": "stream",
     "text": [
      "Question :  how bad is covid pandemic\n",
      "predicted :  Nomenclature \n"
     ]
    }
   ],
   "source": [
    "# test on given test_question\n",
    "\n",
    "pred = test_on_data(test_question, 'MLP')\n",
    "print(\"Question : \", test_question)\n",
    "print(\"predicted : \", pred)"
   ]
  },
  {
   "cell_type": "markdown",
   "metadata": {},
   "source": [
    "## t-SNE visualization"
   ]
  },
  {
   "cell_type": "code",
   "execution_count": 56,
   "metadata": {},
   "outputs": [],
   "source": [
    "import numpy as np\n",
    "import matplotlib.pyplot as plt\n",
    "%matplotlib inline\n",
    "\n",
    "from sklearn.decomposition import PCA\n",
    "from sklearn.manifold import TSNE"
   ]
  },
  {
   "cell_type": "code",
   "execution_count": 57,
   "metadata": {},
   "outputs": [],
   "source": [
    "def get_similar_words(word):\n",
    "    '''get similar words from word2vec model\n",
    "    input - word'''\n",
    "    return sg_w2v_model.wv.most_similar([word])"
   ]
  },
  {
   "cell_type": "code",
   "execution_count": null,
   "metadata": {},
   "outputs": [],
   "source": []
  },
  {
   "cell_type": "code",
   "execution_count": 58,
   "metadata": {},
   "outputs": [
    {
     "name": "stdout",
     "output_type": "stream",
     "text": [
      "words similar to treatment : \n",
      "[('treating', 0.48643359541893005), ('drug', 0.4802604913711548), ('around', 0.4700400233268738), ('hydroxychloroquine', 0.4196855127811432), ('water', 0.3932216465473175), ('endocytosis', 0.3530818521976471), ('phosphate', 0.3501836657524109), ('g', 0.3479245603084564), ('20', 0.3422026038169861), ('va', 0.33249637484550476)]\n"
     ]
    }
   ],
   "source": [
    "# get similar words for treatment if it exists in word2vec model\n",
    "if ('treatment' in sg_w2v_model.wv.index_to_key):\n",
    "    similar_words = get_similar_words('treatment')\n",
    "    print(\"words similar to treatment : \")\n",
    "    print(similar_words)"
   ]
  },
  {
   "cell_type": "code",
   "execution_count": 59,
   "metadata": {},
   "outputs": [
    {
     "name": "stdout",
     "output_type": "stream",
     "text": [
      "words similar to covid : \n",
      "[('covd', 0.37438544631004333), ('cov8d', 0.35171183943748474), ('covi', 0.3468640446662903), ('cvoid', 0.31457197666168213), ('id', 0.3084094226360321), ('cvid', 0.2968449890613556), ('ovid', 0.29060009121894836), ('coviW', 0.2869703769683838), ('ckvid', 0.28413689136505127), ('ocvid', 0.2822575867176056)]\n"
     ]
    }
   ],
   "source": [
    "# get similar words for covid if it exists in word2vec model\n",
    "if ('covid' in sg_w2v_model.wv.index_to_key):\n",
    "    similar_words = get_similar_words('covid')\n",
    "    print(\"words similar to covid : \")\n",
    "    print(similar_words)"
   ]
  },
  {
   "cell_type": "code",
   "execution_count": 60,
   "metadata": {},
   "outputs": [
    {
     "name": "stdout",
     "output_type": "stream",
     "text": [
      "words similar to end : \n",
      "[('humanity', 0.4520258605480194), ('beginning', 0.4138672351837158), ('bovine', 0.4123806357383728), ('size', 0.38873863220214844), ('ths', 0.3835488557815552), ('scientific', 0.36116504669189453), ('sign', 0.3553508222103119), ('2008', 0.344683438539505), ('movement', 0.3282422125339508), ('home', 0.32538896799087524)]\n"
     ]
    }
   ],
   "source": [
    "# get similar words for end if it exists in word2vec model\n",
    "if ('end' in sg_w2v_model.wv.index_to_key):\n",
    "    similar_words = get_similar_words('end')\n",
    "    print(\"words similar to end : \")\n",
    "    print(similar_words)"
   ]
  },
  {
   "cell_type": "code",
   "execution_count": 61,
   "metadata": {},
   "outputs": [
    {
     "name": "stdout",
     "output_type": "stream",
     "text": [
      "words similar to pandemic : \n",
      "[('outbreak', 0.37621161341667175), ('crisis', 0.3407739996910095), ('recession', 0.29831576347351074), ('different', 0.2814614176750183), ('beginning', 0.27567046880722046), ('quarantine', 0.27535516023635864), ('days', 0.27523067593574524), ('superpower', 0.26618310809135437), ('answer', 0.25960761308670044), ('changed', 0.25878065824508667)]\n"
     ]
    }
   ],
   "source": [
    "# get similar words for pandemic if it exists in word2vec model\n",
    "if ('pandemic' in sg_w2v_model.wv.index_to_key):\n",
    "    similar_words = get_similar_words('pandemic')\n",
    "    print(\"words similar to pandemic : \")\n",
    "    print(similar_words)"
   ]
  },
  {
   "cell_type": "code",
   "execution_count": 62,
   "metadata": {},
   "outputs": [],
   "source": [
    "# get similar words for transmission if it exists in word2vec model\n",
    "if ('transmission' in sg_w2v_model.wv.index_to_key):\n",
    "    similar_words = get_similar_words('transmission')\n",
    "    print(\"words similar to transmission : \")\n",
    "    print(similar_words)"
   ]
  },
  {
   "cell_type": "code",
   "execution_count": 63,
   "metadata": {},
   "outputs": [],
   "source": [
    "# save similar words for defined words if they exists in word2vec model\n",
    "words = ['treatment', 'covid', 'pandemic','transmission', 'end']\n",
    "other_words_tsne = []\n",
    "for i in words:\n",
    "    if (tsne_word != i and i in sg_w2v_model.wv.index_to_key):\n",
    "        similar_words = get_similar_words(i) # get similar words\n",
    "        other_words_tsne.append(similar_words[3][0])\n",
    "        other_words_tsne.append(similar_words[2][0])"
   ]
  },
  {
   "cell_type": "code",
   "execution_count": 64,
   "metadata": {},
   "outputs": [
    {
     "data": {
      "text/plain": [
       "['cvoid', 'covi', 'different', 'recession', 'size', 'bovine']"
      ]
     },
     "execution_count": 64,
     "metadata": {},
     "output_type": "execute_result"
    }
   ],
   "source": [
    "other_words_tsne"
   ]
  },
  {
   "cell_type": "code",
   "execution_count": 65,
   "metadata": {},
   "outputs": [],
   "source": [
    "def tsne_plot(model, word, list_names):\n",
    "    \"\"\" Plot that results from the t-SNE dimensionality reduction algorithm of the vectors of a given word,\n",
    "    its list of most similar words, and a list of words.\n",
    "    input - model (word2vec), word, word list to show\n",
    "    \"\"\"\n",
    "    arrays = np.empty((0, vector_size), dtype='f')\n",
    "    word_labels = [word]\n",
    "    color_list  = ['green']\n",
    "\n",
    "    # adds the vector of the  word\n",
    "    arrays = np.append(arrays, [model.wv[word]], axis=0)\n",
    "    \n",
    "    # gets list of most similar words\n",
    "    close_words = model.wv.most_similar([word])\n",
    "    # adds the vector for each of the closest words to the array\n",
    "    for wrd_score in close_words:\n",
    "        wrd_vector = model.wv[wrd_score[0]]\n",
    "        word_labels.append(wrd_score[0])\n",
    "        color_list.append('blue')\n",
    "        arrays = np.append(arrays, [wrd_vector], axis=0)\n",
    "    \n",
    "    # adds the vector for each of the words from list_names to the array\n",
    "    for wrd in list_names:\n",
    "        wrd_vector = model.wv[wrd]\n",
    "        word_labels.append(wrd)\n",
    "        color_list.append('orange')\n",
    "        arrays = np.append(arrays, [wrd_vector], axis=0)\n",
    "        # Reduces the dimensionality from 300 to 50 dimensions with PCA\n",
    "    pca_features = PCA(n_components=10, random_state=0).fit_transform(arrays)\n",
    "    \n",
    "#     # Finds t-SNE coordinates for 2 dimensions\n",
    "#     np.set_printoptions(suppress=True)\n",
    "    \n",
    "    tsne_data = TSNE(n_components=2, random_state=0).fit_transform(pca_features)\n",
    "    \n",
    "    # Sets everything up to plot\n",
    "    df_tsne = pd.DataFrame({'x': [x for x in tsne_data[:, 0]],\n",
    "                       'y': [y for y in tsne_data[:, 1]],\n",
    "                       'words': word_labels,\n",
    "                       'color': color_list})\n",
    "\n",
    "    plt.figure(figsize=(10, 8))\n",
    "    # Basic plot\n",
    "    plt.scatter(data=df_tsne,\n",
    "                     x=\"x\",\n",
    "                     y=\"y\",\n",
    "                     marker=\"x\",\n",
    "                     c = df_tsne['color']\n",
    "                    )\n",
    "    # Adds annotations one by one with a loop\n",
    "    for i,row in df_tsne.iterrows():\n",
    "         plt.annotate(row[\"words\"], (row[\"x\"],\n",
    "                 row['y']+0.5)\n",
    "#                  color=row['color']\n",
    "                ).set_size(12)\n",
    "\n",
    "    plt.title('t-SNE visualization for '+ word)\n",
    "    \n"
   ]
  },
  {
   "cell_type": "code",
   "execution_count": 66,
   "metadata": {},
   "outputs": [
    {
     "data": {
      "image/png": "[encoded data removed]",
      "text/plain": [
       "<Figure size 720x576 with 1 Axes>"
      ]
     },
     "metadata": {
      "needs_background": "light"
     },
     "output_type": "display_data"
    }
   ],
   "source": [
    "tsne_plot(sg_w2v_model, tsne_word, other_words_tsne)"
   ]
  },
  {
   "cell_type": "code",
   "execution_count": null,
   "metadata": {},
   "outputs": [],
   "source": []
  },
  {
   "cell_type": "code",
   "execution_count": null,
   "metadata": {},
   "outputs": [],
   "source": []
  }
 ],
 "metadata": {
  "kernelspec": {
   "display_name": "Python 3",
   "language": "python",
   "name": "python3"
  },
  "language_info": {
   "codemirror_mode": {
    "name": "ipython",
    "version": 3
   },
   "file_extension": ".py",
   "mimetype": "text/x-python",
   "name": "python",
   "nbconvert_exporter": "python",
   "pygments_lexer": "ipython3",
   "version": "3.7.9"
  }
 },
 "nbformat": 4,
 "nbformat_minor": 2
}
