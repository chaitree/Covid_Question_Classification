{
 "cells": [
  {
   "cell_type": "code",
   "execution_count": 1,
   "metadata": {},
   "outputs": [],
   "source": [
    "import pandas as pd\n",
    "import nlpaug.augmenter.char as nac\n",
    "import nlpaug.augmenter.word as naw\n",
    "import nlpaug.augmenter.sentence as nas\n",
    "import nlpaug.flow as nafc\n",
    "import nltk\n",
    "from nlpaug.util import Action"
   ]
  },
  {
   "cell_type": "code",
   "execution_count": 2,
   "metadata": {},
   "outputs": [],
   "source": [
    "train_df = pd.read_csv(\"./data_generated/train_data.csv\")"
   ]
  },
  {
   "cell_type": "code",
   "execution_count": 3,
   "metadata": {},
   "outputs": [
    {
     "data": {
      "text/plain": [
       "Transmission            56\n",
       "Societal Effects        30\n",
       "Prevention              24\n",
       "Societal Response       24\n",
       "Origin                  20\n",
       "Reporting               20\n",
       "Economic Effects        15\n",
       "Speculation             15\n",
       "Treatment               15\n",
       "Individual Response     14\n",
       "Comparison              13\n",
       "Testing                 12\n",
       "Having COVID            11\n",
       "Nomenclature            11\n",
       "Symptoms                 7\n",
       "Other                    6\n",
       "Name: Category, dtype: int64"
      ]
     },
     "execution_count": 3,
     "metadata": {},
     "output_type": "execute_result"
    }
   ],
   "source": [
    "train_df.Category.value_counts()"
   ]
  },
  {
   "cell_type": "code",
   "execution_count": 4,
   "metadata": {},
   "outputs": [],
   "source": [
    "# we have many number of questions for transmission question types so we will augment using only few techniques and not all techniques only for that data type to avoid imbalance"
   ]
  },
  {
   "cell_type": "markdown",
   "metadata": {},
   "source": [
    "### char level augmentations"
   ]
  },
  {
   "cell_type": "code",
   "execution_count": 5,
   "metadata": {},
   "outputs": [],
   "source": [
    "def char_level_typo_error(sentence):\n",
    "    ''' function will replace random characters by keyboard distance, i.e. character will be replaced by item closer to itself in keyboard\n",
    "    input - sentence that needs to be augmented '''\n",
    "    aug = nac.KeyboardAug(name='Keyboard_Aug')#, aug_char_min=1, aug_char_max=10, aug_char_p=0.3, aug_word_p=0.3, \n",
    "#                       aug_word_min=1, aug_word_max=10, stopwords=None, tokenizer=None, reverse_tokenizer=None, \n",
    "#                       include_upper_case=True, lang='en', verbose=0, \n",
    "#                       stopwords_regex=None, model_path=None, min_char=4)\n",
    " \n",
    "    sentence_aug = aug.augment(sentence)\n",
    "    return sentence_aug"
   ]
  },
  {
   "cell_type": "code",
   "execution_count": 6,
   "metadata": {},
   "outputs": [
    {
     "data": {
      "text/plain": [
       "'is covid worse then swine flu'"
      ]
     },
     "execution_count": 6,
     "metadata": {},
     "output_type": "execute_result"
    }
   ],
   "source": [
    "# take any sentence from dataset\n",
    "sentence = train_df.Question.iloc[0]\n",
    "sentence"
   ]
  },
  {
   "cell_type": "code",
   "execution_count": 7,
   "metadata": {},
   "outputs": [
    {
     "data": {
      "text/plain": [
       "'is covid wo$se then swine flu'"
      ]
     },
     "execution_count": 7,
     "metadata": {},
     "output_type": "execute_result"
    }
   ],
   "source": [
    "# testing function for keyboardAug\n",
    "char_level_typo_error(sentence)"
   ]
  },
  {
   "cell_type": "code",
   "execution_count": 8,
   "metadata": {},
   "outputs": [],
   "source": [
    "def char_level_random_error(sentence): \n",
    "    '''function applies random character error to textual input, by substituting random characters\n",
    "    input - sentence that needs to be augmented '''\n",
    "    aug = nac.RandomCharAug(action='substitute', name='RandomChar_Aug')#, aug_char_min=1, aug_char_max=10, aug_char_p=0.3, \n",
    "#                         aug_word_p=0.3, aug_word_min=1, aug_word_max=10, include_upper_case=True, include_lower_case=True, \n",
    "#                         include_numeric=True, min_char=4, swap_mode='adjacent', spec_char='!@#$%^&*()_+', stopwords=None, \n",
    "#                         tokenizer=None, reverse_tokenizer=None, verbose=0, stopwords_regex=None, candidiates=None)\n",
    " \n",
    "    sentence_aug = aug.augment(sentence)\n",
    "    return sentence_aug"
   ]
  },
  {
   "cell_type": "code",
   "execution_count": 9,
   "metadata": {},
   "outputs": [],
   "source": [
    "def char_level_random_deletion_error(sentence): \n",
    "    '''function applies random character error to textual input, by deleting random characters\n",
    "    input - sentence that needs to be augmented '''\n",
    "    aug = nac.RandomCharAug(action='delete', name='RandomChar_Aug')#, aug_char_min=1, aug_char_max=10, aug_char_p=0.3, \n",
    "#                         aug_word_p=0.3, aug_word_min=1, aug_word_max=10, include_upper_case=True, include_lower_case=True, \n",
    "#                         include_numeric=True, min_char=4, swap_mode='adjacent', spec_char='!@#$%^&*()_+', stopwords=None, \n",
    "#                         tokenizer=None, reverse_tokenizer=None, verbose=0, stopwords_regex=None, candidiates=None)\n",
    " \n",
    "    sentence_aug = aug.augment(sentence)\n",
    "    return sentence_aug"
   ]
  },
  {
   "cell_type": "code",
   "execution_count": null,
   "metadata": {},
   "outputs": [],
   "source": []
  },
  {
   "cell_type": "code",
   "execution_count": 10,
   "metadata": {},
   "outputs": [
    {
     "data": {
      "text/plain": [
       "'is covid worse then sine flu'"
      ]
     },
     "execution_count": 10,
     "metadata": {},
     "output_type": "execute_result"
    }
   ],
   "source": [
    "# test RandomCharAug deletion error\n",
    "char_level_random_deletion_error(sentence)"
   ]
  },
  {
   "cell_type": "code",
   "execution_count": 11,
   "metadata": {},
   "outputs": [],
   "source": [
    "def char_level_random_insertion_error(sentence): \n",
    "    '''function applies random character error to textual input, by inserting random characters\n",
    "    input - sentence that needs to be augmented '''\n",
    "    aug = nac.RandomCharAug(action='insert', name='RandomChar_Aug')#, aug_char_min=1, aug_char_max=10, aug_char_p=0.3, \n",
    "#                         aug_word_p=0.3, aug_word_min=1, aug_word_max=10, include_upper_case=True, include_lower_case=True, \n",
    "#                         include_numeric=True, min_char=4, swap_mode='adjacent', spec_char='!@#$%^&*()_+', stopwords=None, \n",
    "#                         tokenizer=None, reverse_tokenizer=None, verbose=0, stopwords_regex=None, candidiates=None)\n",
    " \n",
    "    sentence_aug = aug.augment(sentence)\n",
    "    return sentence_aug"
   ]
  },
  {
   "cell_type": "code",
   "execution_count": 12,
   "metadata": {},
   "outputs": [
    {
     "data": {
      "text/plain": [
       "'is covid worse then Pswine flu'"
      ]
     },
     "execution_count": 12,
     "metadata": {},
     "output_type": "execute_result"
    }
   ],
   "source": [
    "# test RandomCharAug insertion error\n",
    "char_level_random_insertion_error(sentence)"
   ]
  },
  {
   "cell_type": "code",
   "execution_count": 13,
   "metadata": {},
   "outputs": [],
   "source": [
    "def char_level_random_swap_error(sentence): \n",
    "    '''function applies random character error to textual input, by swaping random characters\n",
    "    input - sentence that needs to be augmented '''\n",
    "    aug = nac.RandomCharAug(action='swap', name='RandomChar_Aug')#, aug_char_min=1, aug_char_max=10, aug_char_p=0.3, \n",
    "#                         aug_word_p=0.3, aug_word_min=1, aug_word_max=10, include_upper_case=True, include_lower_case=True, \n",
    "#                         include_numeric=True, min_char=4, swap_mode='adjacent', spec_char='!@#$%^&*()_+', stopwords=None, \n",
    "#                         tokenizer=None, reverse_tokenizer=None, verbose=0, stopwords_regex=None, candidiates=None)\n",
    " \n",
    "    sentence_aug = aug.augment(sentence)\n",
    "    return sentence_aug"
   ]
  },
  {
   "cell_type": "code",
   "execution_count": 14,
   "metadata": {},
   "outputs": [
    {
     "data": {
      "text/plain": [
       "'is covdi worse then swine flu'"
      ]
     },
     "execution_count": 14,
     "metadata": {},
     "output_type": "execute_result"
    }
   ],
   "source": [
    "# test RandomCharAug insertion error\n",
    "char_level_random_swap_error(sentence)"
   ]
  },
  {
   "cell_type": "markdown",
   "metadata": {},
   "source": [
    "### word level augmentation"
   ]
  },
  {
   "cell_type": "code",
   "execution_count": 15,
   "metadata": {},
   "outputs": [
    {
     "name": "stderr",
     "output_type": "stream",
     "text": [
      "[nltk_data] Downloading package averaged_perceptron_tagger to\n",
      "[nltk_data]     C:\\Users\\LENOVO\\AppData\\Roaming\\nltk_data...\n",
      "[nltk_data]   Package averaged_perceptron_tagger is already up-to-\n",
      "[nltk_data]       date!\n"
     ]
    },
    {
     "data": {
      "text/plain": [
       "True"
      ]
     },
     "execution_count": 15,
     "metadata": {},
     "output_type": "execute_result"
    }
   ],
   "source": [
    "nltk.download('averaged_perceptron_tagger')"
   ]
  },
  {
   "cell_type": "code",
   "execution_count": 16,
   "metadata": {},
   "outputs": [],
   "source": [
    "def word_level_synonym_replacement(sentence):\n",
    "    ''' function where random word is replaced by the word with similar meaning according to wordnet\n",
    "    input - sentence that needs to be augmented '''\n",
    "    aug = naw.SynonymAug(aug_src='wordnet', model_path=None, name='Synonym_Aug')#, aug_min=1, aug_max=10, aug_p=0.3, lang='eng', \n",
    "#                      stopwords=None, tokenizer=None, reverse_tokenizer=None, stopwords_regex=None, force_reload=False, \n",
    "#                      verbose=0)\n",
    " \n",
    "    sentence_aug = aug.augment(sentence)\n",
    "    return sentence_aug"
   ]
  },
  {
   "cell_type": "code",
   "execution_count": 17,
   "metadata": {},
   "outputs": [
    {
     "data": {
      "text/plain": [
       "'be covid worse then swine flu'"
      ]
     },
     "execution_count": 17,
     "metadata": {},
     "output_type": "execute_result"
    }
   ],
   "source": [
    "# testing SymonmAug function \n",
    "word_level_synonym_replacement(sentence)"
   ]
  },
  {
   "cell_type": "code",
   "execution_count": 18,
   "metadata": {},
   "outputs": [],
   "source": [
    "def word_level_random_apply(sentence):\n",
    "    ''' function where random word is deleted in the sentence\n",
    "    input - sentence that needs to be augmented '''\n",
    "    aug = naw.RandomWordAug(action='delete', name='RandomWord_Aug')#, aug_min=1, aug_max=10, aug_p=0.3, stopwords=None, \n",
    "#                         target_words=None, tokenizer=None, reverse_tokenizer=None, stopwords_regex=None, verbose=0)\n",
    " \n",
    "    sentence_aug = aug.augment(sentence)\n",
    "    return sentence_aug"
   ]
  },
  {
   "cell_type": "code",
   "execution_count": 19,
   "metadata": {},
   "outputs": [
    {
     "data": {
      "text/plain": [
       "'is covid worse swine flu'"
      ]
     },
     "execution_count": 19,
     "metadata": {},
     "output_type": "execute_result"
    }
   ],
   "source": [
    "# testing RandomWordAug function\n",
    "word_level_random_apply(sentence)"
   ]
  },
  {
   "cell_type": "code",
   "execution_count": 20,
   "metadata": {},
   "outputs": [],
   "source": [
    "def word_level_spelling_error(sentence):\n",
    "    '''function that inserts spelling error in any random words\n",
    "    input - sentence that needs to be augmented '''\n",
    "    aug = naw.SpellingAug(dict_path=None, name='Spelling_Aug', aug_min=1, aug_max=10, aug_p=0.3, stopwords=None, \n",
    "                          tokenizer=None, reverse_tokenizer=None, include_reverse=True, stopwords_regex=None, verbose=0)\n",
    "\n",
    "    sentence_aug = aug.augment(sentence)\n",
    "    return sentence_aug"
   ]
  },
  {
   "cell_type": "code",
   "execution_count": 21,
   "metadata": {},
   "outputs": [
    {
     "data": {
      "text/plain": [
       "'is covid worse then swim flu'"
      ]
     },
     "execution_count": 21,
     "metadata": {},
     "output_type": "execute_result"
    }
   ],
   "source": [
    "# testing SpellingAug function\n",
    "word_level_spelling_error(sentence)"
   ]
  },
  {
   "cell_type": "code",
   "execution_count": 22,
   "metadata": {},
   "outputs": [],
   "source": [
    "def word_level_splitting_error(sentence):\n",
    "    '''function that splits any random words\n",
    "    input - sentence that needs to be augmented '''\n",
    "    aug = naw.SplitAug(name='Split_Aug', aug_min=1, aug_max=10, aug_p=0.3, min_char=4, stopwords=None, tokenizer=None, \n",
    "                   reverse_tokenizer=None, stopwords_regex=None, verbose=0)\n",
    " \n",
    "    sentence_aug = aug.augment(sentence)\n",
    "    return sentence_aug"
   ]
  },
  {
   "cell_type": "code",
   "execution_count": 23,
   "metadata": {},
   "outputs": [
    {
     "data": {
      "text/plain": [
       "'is covid worse t hen swine flu'"
      ]
     },
     "execution_count": 23,
     "metadata": {},
     "output_type": "execute_result"
    }
   ],
   "source": [
    "# testing SplitAug function\n",
    "word_level_splitting_error(sentence)"
   ]
  },
  {
   "cell_type": "code",
   "execution_count": 24,
   "metadata": {},
   "outputs": [
    {
     "data": {
      "text/plain": [
       "(293, 2)"
      ]
     },
     "execution_count": 24,
     "metadata": {},
     "output_type": "execute_result"
    }
   ],
   "source": [
    "# create copy of train data to append augmented data\n",
    "train_df_aug = train_df.copy()\n",
    "train_df_aug.shape"
   ]
  },
  {
   "cell_type": "code",
   "execution_count": 25,
   "metadata": {},
   "outputs": [
    {
     "data": {
      "text/plain": [
       "array(['Comparison ', 'Economic Effects ', 'Having COVID ',\n",
       "       'Individual Response ', 'Nomenclature ', 'Origin ', 'Other ',\n",
       "       'Prevention ', 'Reporting ', 'Societal Effects ',\n",
       "       'Societal Response ', 'Speculation ', 'Symptoms ', 'Testing ',\n",
       "       'Transmission ', 'Treatment '], dtype=object)"
      ]
     },
     "execution_count": 25,
     "metadata": {},
     "output_type": "execute_result"
    }
   ],
   "source": [
    "#find out unique categories\n",
    "train_df_aug.Category.unique()"
   ]
  },
  {
   "cell_type": "code",
   "execution_count": 26,
   "metadata": {},
   "outputs": [
    {
     "data": {
      "text/plain": [
       "(237, 2)"
      ]
     },
     "execution_count": 26,
     "metadata": {},
     "output_type": "execute_result"
    }
   ],
   "source": [
    "# transmission has large number of samples hence  consider it for lesser augmentation than other categories\n",
    "train_df_aug1 = train_df_aug[train_df_aug['Category']!='Transmission ']\n",
    "train_df_aug1.shape"
   ]
  },
  {
   "cell_type": "code",
   "execution_count": 27,
   "metadata": {},
   "outputs": [],
   "source": [
    "# apply all types of augments for categories except transmission and append to original data\n",
    "for i, row in train_df_aug1.iterrows():\n",
    "#     print(row['Category'])\n",
    "#     print(row['Question'])\n",
    "#     df1 = pd.DataFrame()\n",
    "    sentence = row['Question']\n",
    "    aug1 = char_level_typo_error(sentence)\n",
    "    aug2 = char_level_random_error(sentence)\n",
    "    aug3 = char_level_random_deletion_error(sentence)\n",
    "    aug4 = char_level_random_insertion_error(sentence)\n",
    "    aug5 = char_level_random_swap_error(sentence)\n",
    "    aug6 = word_level_synonym_replacement(sentence)\n",
    "    aug7 = word_level_random_apply(sentence)\n",
    "    aug8 = word_level_spelling_error(sentence)\n",
    "    aug9 = word_level_splitting_error(sentence)\n",
    "    df1 = pd.DataFrame({'Category':row['Category'], 'Question':[aug1, aug2,aug3, aug4, aug5, aug5, aug6, aug7, aug8, aug9]})\n",
    "    train_df_aug = train_df_aug.append(df1)"
   ]
  },
  {
   "cell_type": "code",
   "execution_count": 28,
   "metadata": {},
   "outputs": [],
   "source": [
    "# apply only word types of augments for category transmission and append to original data\n",
    "for i, row in train_df_aug[train_df_aug['Category']=='Transmission '].iterrows():\n",
    "#     print(row['Category'])\n",
    "#     print(row['Question'])\n",
    "#     df1 = pd.DataFrame()\n",
    "    sentence = row['Question']\n",
    "#     aug1 = char_level_typo_error(sentence)\n",
    "#     aug2 = char_level_random_error(sentence)\n",
    "#     aug3 = char_level_random_deletion_error(sentence)\n",
    "#     aug4 = char_level_random_insertion_error(sentence)\n",
    "#     aug5 = char_level_random_swap_error(sentence)\n",
    "    aug6 = word_level_synonym_replacement(sentence)\n",
    "    aug7 = word_level_random_apply(sentence)\n",
    "    aug8 = word_level_spelling_error(sentence)\n",
    "    aug9 = word_level_splitting_error(sentence)\n",
    "    df1 = pd.DataFrame({'Category':row['Category'], 'Question':[ aug6,aug7, aug8, aug9]})\n",
    "    train_df_aug = train_df_aug.append(df1)"
   ]
  },
  {
   "cell_type": "code",
   "execution_count": 29,
   "metadata": {},
   "outputs": [
    {
     "data": {
      "text/html": [
       "<div>\n",
       "<style scoped>\n",
       "    .dataframe tbody tr th:only-of-type {\n",
       "        vertical-align: middle;\n",
       "    }\n",
       "\n",
       "    .dataframe tbody tr th {\n",
       "        vertical-align: top;\n",
       "    }\n",
       "\n",
       "    .dataframe thead th {\n",
       "        text-align: right;\n",
       "    }\n",
       "</style>\n",
       "<table border=\"1\" class=\"dataframe\">\n",
       "  <thead>\n",
       "    <tr style=\"text-align: right;\">\n",
       "      <th></th>\n",
       "      <th>Category</th>\n",
       "      <th>Question</th>\n",
       "    </tr>\n",
       "  </thead>\n",
       "  <tbody>\n",
       "    <tr>\n",
       "      <th>0</th>\n",
       "      <td>Comparison</td>\n",
       "      <td>is covid worse then swine flu</td>\n",
       "    </tr>\n",
       "    <tr>\n",
       "      <th>1</th>\n",
       "      <td>Comparison</td>\n",
       "      <td>did covid exist years before scientists discov...</td>\n",
       "    </tr>\n",
       "    <tr>\n",
       "      <th>2</th>\n",
       "      <td>Comparison</td>\n",
       "      <td>how are covid and sars cov similar</td>\n",
       "    </tr>\n",
       "    <tr>\n",
       "      <th>3</th>\n",
       "      <td>Comparison</td>\n",
       "      <td>is covid more contagious than the flu</td>\n",
       "    </tr>\n",
       "    <tr>\n",
       "      <th>4</th>\n",
       "      <td>Comparison</td>\n",
       "      <td>is covid worse than spanish flu</td>\n",
       "    </tr>\n",
       "    <tr>\n",
       "      <th>...</th>\n",
       "      <td>...</td>\n",
       "      <td>...</td>\n",
       "    </tr>\n",
       "    <tr>\n",
       "      <th>3</th>\n",
       "      <td>Transmission</td>\n",
       "      <td>who cov id airborne</td>\n",
       "    </tr>\n",
       "    <tr>\n",
       "      <th>0</th>\n",
       "      <td>Transmission</td>\n",
       "      <td>what follow the risk of my child becoming sick...</td>\n",
       "    </tr>\n",
       "    <tr>\n",
       "      <th>1</th>\n",
       "      <td>Transmission</td>\n",
       "      <td>what the risk of child becoming sick with</td>\n",
       "    </tr>\n",
       "    <tr>\n",
       "      <th>2</th>\n",
       "      <td>Transmission</td>\n",
       "      <td>whay is the risck of my child becoming seek wi...</td>\n",
       "    </tr>\n",
       "    <tr>\n",
       "      <th>3</th>\n",
       "      <td>Transmission</td>\n",
       "      <td>what is the risk of my c hild becoming si ck w...</td>\n",
       "    </tr>\n",
       "  </tbody>\n",
       "</table>\n",
       "<p>2887 rows × 2 columns</p>\n",
       "</div>"
      ],
      "text/plain": [
       "         Category                                           Question\n",
       "0     Comparison                       is covid worse then swine flu\n",
       "1     Comparison   did covid exist years before scientists discov...\n",
       "2     Comparison                  how are covid and sars cov similar\n",
       "3     Comparison               is covid more contagious than the flu\n",
       "4     Comparison                     is covid worse than spanish flu\n",
       "..            ...                                                ...\n",
       "3   Transmission                                 who cov id airborne\n",
       "0   Transmission   what follow the risk of my child becoming sick...\n",
       "1   Transmission           what the risk of child becoming sick with\n",
       "2   Transmission   whay is the risck of my child becoming seek wi...\n",
       "3   Transmission   what is the risk of my c hild becoming si ck w...\n",
       "\n",
       "[2887 rows x 2 columns]"
      ]
     },
     "execution_count": 29,
     "metadata": {},
     "output_type": "execute_result"
    }
   ],
   "source": [
    "train_df_aug"
   ]
  },
  {
   "cell_type": "code",
   "execution_count": 30,
   "metadata": {},
   "outputs": [],
   "source": [
    "# drop any duplicates that might have created\n",
    "train_df_aug2  =train_df_aug.drop_duplicates(['Question'])"
   ]
  },
  {
   "cell_type": "code",
   "execution_count": 31,
   "metadata": {},
   "outputs": [
    {
     "data": {
      "text/html": [
       "<div>\n",
       "<style scoped>\n",
       "    .dataframe tbody tr th:only-of-type {\n",
       "        vertical-align: middle;\n",
       "    }\n",
       "\n",
       "    .dataframe tbody tr th {\n",
       "        vertical-align: top;\n",
       "    }\n",
       "\n",
       "    .dataframe thead th {\n",
       "        text-align: right;\n",
       "    }\n",
       "</style>\n",
       "<table border=\"1\" class=\"dataframe\">\n",
       "  <thead>\n",
       "    <tr style=\"text-align: right;\">\n",
       "      <th></th>\n",
       "      <th>Category</th>\n",
       "      <th>Question</th>\n",
       "    </tr>\n",
       "  </thead>\n",
       "  <tbody>\n",
       "    <tr>\n",
       "      <th>0</th>\n",
       "      <td>Comparison</td>\n",
       "      <td>is covid worse then swine flu</td>\n",
       "    </tr>\n",
       "    <tr>\n",
       "      <th>1</th>\n",
       "      <td>Comparison</td>\n",
       "      <td>did covid exist years before scientists discov...</td>\n",
       "    </tr>\n",
       "    <tr>\n",
       "      <th>2</th>\n",
       "      <td>Comparison</td>\n",
       "      <td>how are covid and sars cov similar</td>\n",
       "    </tr>\n",
       "    <tr>\n",
       "      <th>3</th>\n",
       "      <td>Comparison</td>\n",
       "      <td>is covid more contagious than the flu</td>\n",
       "    </tr>\n",
       "    <tr>\n",
       "      <th>4</th>\n",
       "      <td>Comparison</td>\n",
       "      <td>is covid worse than spanish flu</td>\n",
       "    </tr>\n",
       "    <tr>\n",
       "      <th>...</th>\n",
       "      <td>...</td>\n",
       "      <td>...</td>\n",
       "    </tr>\n",
       "    <tr>\n",
       "      <th>3</th>\n",
       "      <td>Transmission</td>\n",
       "      <td>who cov id airborne</td>\n",
       "    </tr>\n",
       "    <tr>\n",
       "      <th>0</th>\n",
       "      <td>Transmission</td>\n",
       "      <td>what follow the risk of my child becoming sick...</td>\n",
       "    </tr>\n",
       "    <tr>\n",
       "      <th>1</th>\n",
       "      <td>Transmission</td>\n",
       "      <td>what the risk of child becoming sick with</td>\n",
       "    </tr>\n",
       "    <tr>\n",
       "      <th>2</th>\n",
       "      <td>Transmission</td>\n",
       "      <td>whay is the risck of my child becoming seek wi...</td>\n",
       "    </tr>\n",
       "    <tr>\n",
       "      <th>3</th>\n",
       "      <td>Transmission</td>\n",
       "      <td>what is the risk of my c hild becoming si ck w...</td>\n",
       "    </tr>\n",
       "  </tbody>\n",
       "</table>\n",
       "<p>2570 rows × 2 columns</p>\n",
       "</div>"
      ],
      "text/plain": [
       "         Category                                           Question\n",
       "0     Comparison                       is covid worse then swine flu\n",
       "1     Comparison   did covid exist years before scientists discov...\n",
       "2     Comparison                  how are covid and sars cov similar\n",
       "3     Comparison               is covid more contagious than the flu\n",
       "4     Comparison                     is covid worse than spanish flu\n",
       "..            ...                                                ...\n",
       "3   Transmission                                 who cov id airborne\n",
       "0   Transmission   what follow the risk of my child becoming sick...\n",
       "1   Transmission           what the risk of child becoming sick with\n",
       "2   Transmission   whay is the risck of my child becoming seek wi...\n",
       "3   Transmission   what is the risk of my c hild becoming si ck w...\n",
       "\n",
       "[2570 rows x 2 columns]"
      ]
     },
     "execution_count": 31,
     "metadata": {},
     "output_type": "execute_result"
    }
   ],
   "source": [
    "train_df_aug2"
   ]
  },
  {
   "cell_type": "code",
   "execution_count": 32,
   "metadata": {},
   "outputs": [
    {
     "data": {
      "text/plain": [
       "(237, 2)"
      ]
     },
     "execution_count": 32,
     "metadata": {},
     "output_type": "execute_result"
    }
   ],
   "source": [
    "train_df_aug1.shape"
   ]
  },
  {
   "cell_type": "code",
   "execution_count": 33,
   "metadata": {},
   "outputs": [
    {
     "data": {
      "text/plain": [
       "array(['Comparison ', 'Economic Effects ', 'Having COVID ',\n",
       "       'Individual Response ', 'Nomenclature ', 'Origin ', 'Other ',\n",
       "       'Prevention ', 'Reporting ', 'Societal Effects ',\n",
       "       'Societal Response ', 'Speculation ', 'Symptoms ', 'Testing ',\n",
       "       'Transmission ', 'Treatment '], dtype=object)"
      ]
     },
     "execution_count": 33,
     "metadata": {},
     "output_type": "execute_result"
    }
   ],
   "source": [
    "train_df_aug.Category.unique()"
   ]
  },
  {
   "cell_type": "code",
   "execution_count": 34,
   "metadata": {},
   "outputs": [
    {
     "data": {
      "text/plain": [
       "Societal Effects        330\n",
       "Transmission            280\n",
       "Prevention              264\n",
       "Societal Response       264\n",
       "Origin                  220\n",
       "Reporting               220\n",
       "Economic Effects        165\n",
       "Speculation             165\n",
       "Treatment               165\n",
       "Individual Response     154\n",
       "Comparison              143\n",
       "Testing                 132\n",
       "Having COVID            121\n",
       "Nomenclature            121\n",
       "Symptoms                 77\n",
       "Other                    66\n",
       "Name: Category, dtype: int64"
      ]
     },
     "execution_count": 34,
     "metadata": {},
     "output_type": "execute_result"
    }
   ],
   "source": [
    "train_df_aug.Category.value_counts()"
   ]
  },
  {
   "cell_type": "code",
   "execution_count": 35,
   "metadata": {},
   "outputs": [],
   "source": [
    "# save the dataset along with augmented dataset\n",
    "train_df_aug.to_csv(\"./data_generated/train_data_augmented.csv\")"
   ]
  },
  {
   "cell_type": "code",
   "execution_count": 36,
   "metadata": {},
   "outputs": [
    {
     "name": "stdout",
     "output_type": "stream",
     "text": [
      "train augmented data shape :  (2887, 2)\n"
     ]
    }
   ],
   "source": [
    "print(\"train augmented data shape : \", train_df_aug.shape)"
   ]
  },
  {
   "cell_type": "code",
   "execution_count": null,
   "metadata": {},
   "outputs": [],
   "source": []
  }
 ],
 "metadata": {
  "kernelspec": {
   "display_name": "Python 3",
   "language": "python",
   "name": "python3"
  },
  "language_info": {
   "codemirror_mode": {
    "name": "ipython",
    "version": 3
   },
   "file_extension": ".py",
   "mimetype": "text/x-python",
   "name": "python",
   "nbconvert_exporter": "python",
   "pygments_lexer": "ipython3",
   "version": "3.7.9"
  }
 },
 "nbformat": 4,
 "nbformat_minor": 2
}
